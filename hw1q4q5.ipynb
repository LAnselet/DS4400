{
 "cells": [
  {
   "cell_type": "markdown",
   "id": "84ad4a82-bacf-4380-a33c-8dfef062ac9e",
   "metadata": {},
   "source": [
    "<center> <h2> Spring 2022 DS 4400 </h2></center>"
   ]
  },
  {
   "cell_type": "markdown",
   "id": "8272138d-5e35-4c99-9a87-ff5db5706c73",
   "metadata": {},
   "source": [
    "<center> <h3> Homework 1 </h3></center>"
   ]
  },
  {
   "cell_type": "markdown",
   "id": "0f9e1ab9-1035-4361-9c7b-245a1e24ab27",
   "metadata": {},
   "source": [
    "<center> <h3> Author: Yichen Sun </h3></center>"
   ]
  },
  {
   "cell_type": "markdown",
   "id": "0de6f192-b9f0-478d-9011-cc6ebcb0d377",
   "metadata": {
    "tags": []
   },
   "source": [
    "## Outline"
   ]
  },
  {
   "cell_type": "markdown",
   "id": "93c0cd56-0880-4289-ba42-2957c17aa481",
   "metadata": {},
   "source": [
    "1. <a href='#1'>Problem 4 [Matrix transpose and inverse]</a>\n",
    "2. <a href='#2'>Problem 5 [Average, variance, and correlation]</a>"
   ]
  },
  {
   "cell_type": "markdown",
   "id": "70b63a41-7f57-4afe-8144-31b5e0aad506",
   "metadata": {},
   "source": [
    "## 1. Problem 4 [Matrix transpose and inverse] 20 points"
   ]
  },
  {
   "cell_type": "markdown",
   "id": "9847e360-66cf-4148-9766-f2cb7695a911",
   "metadata": {},
   "source": [
    "c) Generate at random 3 matrices of size 3 × 3 and fill each entry with a random integer chosen from -10 to 10. Use an existing package to compute the inverse of each matrix if it exists. \n",
    "\n",
    "Include in your report:\n",
    "\n",
    "* Each of the 3 matrices\n",
    "* The inverses computed with the package\n",
    "* Compute the product of each matrix with its inverse to check that you obtain the identity matrix."
   ]
  },
  {
   "cell_type": "code",
   "execution_count": 1,
   "id": "e74f5748-4205-4beb-8488-f81d6aaa09be",
   "metadata": {},
   "outputs": [],
   "source": [
    "import numpy as np"
   ]
  },
  {
   "cell_type": "code",
   "execution_count": 2,
   "id": "a797428c-e02b-4394-a536-6d3bee46be17",
   "metadata": {},
   "outputs": [],
   "source": [
    "def generate_matrices():\n",
    "    \n",
    "    for i in range(3):\n",
    "        matrix = np.random.randint(-10,10, size=(3,3))\n",
    "        print(f'matrix {i}:')\n",
    "        print(matrix)\n",
    "        try:\n",
    "            inverse = np.linalg.inv(matrix)\n",
    "        except np.linalg.LinAlgError:\n",
    "            pass\n",
    "        else:\n",
    "            print(f'matrix {i} inverse:')\n",
    "            print(inverse)\n",
    "            \n",
    "        product = np.dot(matrix, inverse)\n",
    "        identity = np.eye(3)\n",
    "        isIdentity = np.all(np.equal(product, identity))\n",
    "        if isIdentity:\n",
    "            print('you obtain the identity matrix')\n",
    "        else:\n",
    "            print(f'matrix {i} is not an identity matrix')"
   ]
  },
  {
   "cell_type": "code",
   "execution_count": 3,
   "id": "d6c3984d-70f3-4b52-bc21-56d24fc73f9c",
   "metadata": {
    "tags": []
   },
   "outputs": [
    {
     "name": "stdout",
     "output_type": "stream",
     "text": [
      "matrix 0:\n",
      "[[-7  8 -5]\n",
      " [ 9  6  5]\n",
      " [ 9 -4 -5]]\n",
      "matrix 0 inverse:\n",
      "[[-0.00806452  0.0483871   0.05645161]\n",
      " [ 0.07258065  0.06451613 -0.00806452]\n",
      " [-0.07258065  0.03548387 -0.09193548]]\n",
      "matrix 0 is not an identity matrix\n",
      "matrix 1:\n",
      "[[ -7  -3   7]\n",
      " [  4   0  -7]\n",
      " [-10 -10   0]]\n",
      "matrix 1 inverse:\n",
      "[[-9.85162418e+14 -9.85162418e+14  2.95548726e+14]\n",
      " [ 9.85162418e+14  9.85162418e+14 -2.95548726e+14]\n",
      " [-5.62949953e+14 -5.62949953e+14  1.68884986e+14]]\n",
      "matrix 1 is not an identity matrix\n",
      "matrix 2:\n",
      "[[ -2  -2 -10]\n",
      " [  7 -10  -9]\n",
      " [ -2   6   0]]\n",
      "matrix 2 inverse:\n",
      "[[-0.14835165  0.16483516  0.22527473]\n",
      " [-0.04945055  0.05494505  0.24175824]\n",
      " [-0.06043956 -0.04395604 -0.09340659]]\n",
      "matrix 2 is not an identity matrix\n"
     ]
    }
   ],
   "source": [
    "generate_matrices()"
   ]
  },
  {
   "cell_type": "markdown",
   "id": "9cf13852-53ae-41f5-b737-c3863258b7e5",
   "metadata": {},
   "source": [
    "## 2. Problem 5 [Average, variance, and correlation] 20 points"
   ]
  },
  {
   "cell_type": "markdown",
   "id": "36eb861a-4902-4d3f-9f1f-2ca728dee623",
   "metadata": {},
   "source": [
    "### Dataset"
   ]
  },
  {
   "cell_type": "code",
   "execution_count": 4,
   "id": "d3317cae-6962-4909-bdd1-7e5c71b1a7e7",
   "metadata": {},
   "outputs": [],
   "source": [
    "import pandas as pd\n",
    "import seaborn as sns"
   ]
  },
  {
   "cell_type": "code",
   "execution_count": 5,
   "id": "91c9a869-a49d-4820-8536-5c727a967e22",
   "metadata": {},
   "outputs": [],
   "source": [
    "kc_house_data = pd.read_csv (r'/Users/mac/Downloads/kc_house_data.csv')"
   ]
  },
  {
   "cell_type": "code",
   "execution_count": 6,
   "id": "73410d4f-8d9c-43b9-94d5-3c265ccce6b9",
   "metadata": {},
   "outputs": [
    {
     "data": {
      "text/html": [
       "<div>\n",
       "<style scoped>\n",
       "    .dataframe tbody tr th:only-of-type {\n",
       "        vertical-align: middle;\n",
       "    }\n",
       "\n",
       "    .dataframe tbody tr th {\n",
       "        vertical-align: top;\n",
       "    }\n",
       "\n",
       "    .dataframe thead th {\n",
       "        text-align: right;\n",
       "    }\n",
       "</style>\n",
       "<table border=\"1\" class=\"dataframe\">\n",
       "  <thead>\n",
       "    <tr style=\"text-align: right;\">\n",
       "      <th></th>\n",
       "      <th>id</th>\n",
       "      <th>date</th>\n",
       "      <th>price</th>\n",
       "      <th>bedrooms</th>\n",
       "      <th>bathrooms</th>\n",
       "      <th>sqft_living</th>\n",
       "      <th>sqft_lot</th>\n",
       "      <th>floors</th>\n",
       "      <th>waterfront</th>\n",
       "      <th>view</th>\n",
       "      <th>...</th>\n",
       "      <th>grade</th>\n",
       "      <th>sqft_above</th>\n",
       "      <th>sqft_basement</th>\n",
       "      <th>yr_built</th>\n",
       "      <th>yr_renovated</th>\n",
       "      <th>zipcode</th>\n",
       "      <th>lat</th>\n",
       "      <th>long</th>\n",
       "      <th>sqft_living15</th>\n",
       "      <th>sqft_lot15</th>\n",
       "    </tr>\n",
       "  </thead>\n",
       "  <tbody>\n",
       "    <tr>\n",
       "      <th>0</th>\n",
       "      <td>7129300520</td>\n",
       "      <td>20141013T000000</td>\n",
       "      <td>221900.0</td>\n",
       "      <td>3</td>\n",
       "      <td>1.00</td>\n",
       "      <td>1180</td>\n",
       "      <td>5650</td>\n",
       "      <td>1.0</td>\n",
       "      <td>0</td>\n",
       "      <td>0</td>\n",
       "      <td>...</td>\n",
       "      <td>7</td>\n",
       "      <td>1180</td>\n",
       "      <td>0</td>\n",
       "      <td>1955</td>\n",
       "      <td>0</td>\n",
       "      <td>98178</td>\n",
       "      <td>47.5112</td>\n",
       "      <td>-122.257</td>\n",
       "      <td>1340</td>\n",
       "      <td>5650</td>\n",
       "    </tr>\n",
       "    <tr>\n",
       "      <th>1</th>\n",
       "      <td>6414100192</td>\n",
       "      <td>20141209T000000</td>\n",
       "      <td>538000.0</td>\n",
       "      <td>3</td>\n",
       "      <td>2.25</td>\n",
       "      <td>2570</td>\n",
       "      <td>7242</td>\n",
       "      <td>2.0</td>\n",
       "      <td>0</td>\n",
       "      <td>0</td>\n",
       "      <td>...</td>\n",
       "      <td>7</td>\n",
       "      <td>2170</td>\n",
       "      <td>400</td>\n",
       "      <td>1951</td>\n",
       "      <td>1991</td>\n",
       "      <td>98125</td>\n",
       "      <td>47.7210</td>\n",
       "      <td>-122.319</td>\n",
       "      <td>1690</td>\n",
       "      <td>7639</td>\n",
       "    </tr>\n",
       "    <tr>\n",
       "      <th>2</th>\n",
       "      <td>5631500400</td>\n",
       "      <td>20150225T000000</td>\n",
       "      <td>180000.0</td>\n",
       "      <td>2</td>\n",
       "      <td>1.00</td>\n",
       "      <td>770</td>\n",
       "      <td>10000</td>\n",
       "      <td>1.0</td>\n",
       "      <td>0</td>\n",
       "      <td>0</td>\n",
       "      <td>...</td>\n",
       "      <td>6</td>\n",
       "      <td>770</td>\n",
       "      <td>0</td>\n",
       "      <td>1933</td>\n",
       "      <td>0</td>\n",
       "      <td>98028</td>\n",
       "      <td>47.7379</td>\n",
       "      <td>-122.233</td>\n",
       "      <td>2720</td>\n",
       "      <td>8062</td>\n",
       "    </tr>\n",
       "    <tr>\n",
       "      <th>3</th>\n",
       "      <td>2487200875</td>\n",
       "      <td>20141209T000000</td>\n",
       "      <td>604000.0</td>\n",
       "      <td>4</td>\n",
       "      <td>3.00</td>\n",
       "      <td>1960</td>\n",
       "      <td>5000</td>\n",
       "      <td>1.0</td>\n",
       "      <td>0</td>\n",
       "      <td>0</td>\n",
       "      <td>...</td>\n",
       "      <td>7</td>\n",
       "      <td>1050</td>\n",
       "      <td>910</td>\n",
       "      <td>1965</td>\n",
       "      <td>0</td>\n",
       "      <td>98136</td>\n",
       "      <td>47.5208</td>\n",
       "      <td>-122.393</td>\n",
       "      <td>1360</td>\n",
       "      <td>5000</td>\n",
       "    </tr>\n",
       "    <tr>\n",
       "      <th>4</th>\n",
       "      <td>1954400510</td>\n",
       "      <td>20150218T000000</td>\n",
       "      <td>510000.0</td>\n",
       "      <td>3</td>\n",
       "      <td>2.00</td>\n",
       "      <td>1680</td>\n",
       "      <td>8080</td>\n",
       "      <td>1.0</td>\n",
       "      <td>0</td>\n",
       "      <td>0</td>\n",
       "      <td>...</td>\n",
       "      <td>8</td>\n",
       "      <td>1680</td>\n",
       "      <td>0</td>\n",
       "      <td>1987</td>\n",
       "      <td>0</td>\n",
       "      <td>98074</td>\n",
       "      <td>47.6168</td>\n",
       "      <td>-122.045</td>\n",
       "      <td>1800</td>\n",
       "      <td>7503</td>\n",
       "    </tr>\n",
       "  </tbody>\n",
       "</table>\n",
       "<p>5 rows × 21 columns</p>\n",
       "</div>"
      ],
      "text/plain": [
       "           id             date     price  bedrooms  bathrooms  sqft_living  \\\n",
       "0  7129300520  20141013T000000  221900.0         3       1.00         1180   \n",
       "1  6414100192  20141209T000000  538000.0         3       2.25         2570   \n",
       "2  5631500400  20150225T000000  180000.0         2       1.00          770   \n",
       "3  2487200875  20141209T000000  604000.0         4       3.00         1960   \n",
       "4  1954400510  20150218T000000  510000.0         3       2.00         1680   \n",
       "\n",
       "   sqft_lot  floors  waterfront  view  ...  grade  sqft_above  sqft_basement  \\\n",
       "0      5650     1.0           0     0  ...      7        1180              0   \n",
       "1      7242     2.0           0     0  ...      7        2170            400   \n",
       "2     10000     1.0           0     0  ...      6         770              0   \n",
       "3      5000     1.0           0     0  ...      7        1050            910   \n",
       "4      8080     1.0           0     0  ...      8        1680              0   \n",
       "\n",
       "   yr_built  yr_renovated  zipcode      lat     long  sqft_living15  \\\n",
       "0      1955             0    98178  47.5112 -122.257           1340   \n",
       "1      1951          1991    98125  47.7210 -122.319           1690   \n",
       "2      1933             0    98028  47.7379 -122.233           2720   \n",
       "3      1965             0    98136  47.5208 -122.393           1360   \n",
       "4      1987             0    98074  47.6168 -122.045           1800   \n",
       "\n",
       "   sqft_lot15  \n",
       "0        5650  \n",
       "1        7639  \n",
       "2        8062  \n",
       "3        5000  \n",
       "4        7503  \n",
       "\n",
       "[5 rows x 21 columns]"
      ]
     },
     "execution_count": 6,
     "metadata": {},
     "output_type": "execute_result"
    }
   ],
   "source": [
    "kc_house_data.head()"
   ]
  },
  {
   "cell_type": "code",
   "execution_count": 7,
   "id": "aa39897c-6478-4d5b-bfb3-e2a065938d4f",
   "metadata": {},
   "outputs": [],
   "source": [
    "# Ignore the columns id and date, as well as the categorical column zipcode\n",
    "# One solution is to remove them\n",
    "df = kc_house_data.drop(['id', 'date', 'zipcode'], axis=1)"
   ]
  },
  {
   "cell_type": "code",
   "execution_count": 8,
   "id": "95088fbe-db70-4702-b247-0f8914dc2ca9",
   "metadata": {},
   "outputs": [
    {
     "data": {
      "text/html": [
       "<div>\n",
       "<style scoped>\n",
       "    .dataframe tbody tr th:only-of-type {\n",
       "        vertical-align: middle;\n",
       "    }\n",
       "\n",
       "    .dataframe tbody tr th {\n",
       "        vertical-align: top;\n",
       "    }\n",
       "\n",
       "    .dataframe thead th {\n",
       "        text-align: right;\n",
       "    }\n",
       "</style>\n",
       "<table border=\"1\" class=\"dataframe\">\n",
       "  <thead>\n",
       "    <tr style=\"text-align: right;\">\n",
       "      <th></th>\n",
       "      <th>price</th>\n",
       "      <th>bedrooms</th>\n",
       "      <th>bathrooms</th>\n",
       "      <th>sqft_living</th>\n",
       "      <th>sqft_lot</th>\n",
       "      <th>floors</th>\n",
       "      <th>waterfront</th>\n",
       "      <th>view</th>\n",
       "      <th>condition</th>\n",
       "      <th>grade</th>\n",
       "      <th>sqft_above</th>\n",
       "      <th>sqft_basement</th>\n",
       "      <th>yr_built</th>\n",
       "      <th>yr_renovated</th>\n",
       "      <th>lat</th>\n",
       "      <th>long</th>\n",
       "      <th>sqft_living15</th>\n",
       "      <th>sqft_lot15</th>\n",
       "    </tr>\n",
       "  </thead>\n",
       "  <tbody>\n",
       "    <tr>\n",
       "      <th>0</th>\n",
       "      <td>221900.0</td>\n",
       "      <td>3</td>\n",
       "      <td>1.00</td>\n",
       "      <td>1180</td>\n",
       "      <td>5650</td>\n",
       "      <td>1.0</td>\n",
       "      <td>0</td>\n",
       "      <td>0</td>\n",
       "      <td>3</td>\n",
       "      <td>7</td>\n",
       "      <td>1180</td>\n",
       "      <td>0</td>\n",
       "      <td>1955</td>\n",
       "      <td>0</td>\n",
       "      <td>47.5112</td>\n",
       "      <td>-122.257</td>\n",
       "      <td>1340</td>\n",
       "      <td>5650</td>\n",
       "    </tr>\n",
       "    <tr>\n",
       "      <th>1</th>\n",
       "      <td>538000.0</td>\n",
       "      <td>3</td>\n",
       "      <td>2.25</td>\n",
       "      <td>2570</td>\n",
       "      <td>7242</td>\n",
       "      <td>2.0</td>\n",
       "      <td>0</td>\n",
       "      <td>0</td>\n",
       "      <td>3</td>\n",
       "      <td>7</td>\n",
       "      <td>2170</td>\n",
       "      <td>400</td>\n",
       "      <td>1951</td>\n",
       "      <td>1991</td>\n",
       "      <td>47.7210</td>\n",
       "      <td>-122.319</td>\n",
       "      <td>1690</td>\n",
       "      <td>7639</td>\n",
       "    </tr>\n",
       "    <tr>\n",
       "      <th>2</th>\n",
       "      <td>180000.0</td>\n",
       "      <td>2</td>\n",
       "      <td>1.00</td>\n",
       "      <td>770</td>\n",
       "      <td>10000</td>\n",
       "      <td>1.0</td>\n",
       "      <td>0</td>\n",
       "      <td>0</td>\n",
       "      <td>3</td>\n",
       "      <td>6</td>\n",
       "      <td>770</td>\n",
       "      <td>0</td>\n",
       "      <td>1933</td>\n",
       "      <td>0</td>\n",
       "      <td>47.7379</td>\n",
       "      <td>-122.233</td>\n",
       "      <td>2720</td>\n",
       "      <td>8062</td>\n",
       "    </tr>\n",
       "    <tr>\n",
       "      <th>3</th>\n",
       "      <td>604000.0</td>\n",
       "      <td>4</td>\n",
       "      <td>3.00</td>\n",
       "      <td>1960</td>\n",
       "      <td>5000</td>\n",
       "      <td>1.0</td>\n",
       "      <td>0</td>\n",
       "      <td>0</td>\n",
       "      <td>5</td>\n",
       "      <td>7</td>\n",
       "      <td>1050</td>\n",
       "      <td>910</td>\n",
       "      <td>1965</td>\n",
       "      <td>0</td>\n",
       "      <td>47.5208</td>\n",
       "      <td>-122.393</td>\n",
       "      <td>1360</td>\n",
       "      <td>5000</td>\n",
       "    </tr>\n",
       "    <tr>\n",
       "      <th>4</th>\n",
       "      <td>510000.0</td>\n",
       "      <td>3</td>\n",
       "      <td>2.00</td>\n",
       "      <td>1680</td>\n",
       "      <td>8080</td>\n",
       "      <td>1.0</td>\n",
       "      <td>0</td>\n",
       "      <td>0</td>\n",
       "      <td>3</td>\n",
       "      <td>8</td>\n",
       "      <td>1680</td>\n",
       "      <td>0</td>\n",
       "      <td>1987</td>\n",
       "      <td>0</td>\n",
       "      <td>47.6168</td>\n",
       "      <td>-122.045</td>\n",
       "      <td>1800</td>\n",
       "      <td>7503</td>\n",
       "    </tr>\n",
       "  </tbody>\n",
       "</table>\n",
       "</div>"
      ],
      "text/plain": [
       "      price  bedrooms  bathrooms  sqft_living  sqft_lot  floors  waterfront  \\\n",
       "0  221900.0         3       1.00         1180      5650     1.0           0   \n",
       "1  538000.0         3       2.25         2570      7242     2.0           0   \n",
       "2  180000.0         2       1.00          770     10000     1.0           0   \n",
       "3  604000.0         4       3.00         1960      5000     1.0           0   \n",
       "4  510000.0         3       2.00         1680      8080     1.0           0   \n",
       "\n",
       "   view  condition  grade  sqft_above  sqft_basement  yr_built  yr_renovated  \\\n",
       "0     0          3      7        1180              0      1955             0   \n",
       "1     0          3      7        2170            400      1951          1991   \n",
       "2     0          3      6         770              0      1933             0   \n",
       "3     0          5      7        1050            910      1965             0   \n",
       "4     0          3      8        1680              0      1987             0   \n",
       "\n",
       "       lat     long  sqft_living15  sqft_lot15  \n",
       "0  47.5112 -122.257           1340        5650  \n",
       "1  47.7210 -122.319           1690        7639  \n",
       "2  47.7379 -122.233           2720        8062  \n",
       "3  47.5208 -122.393           1360        5000  \n",
       "4  47.6168 -122.045           1800        7503  "
      ]
     },
     "execution_count": 8,
     "metadata": {},
     "output_type": "execute_result"
    }
   ],
   "source": [
    "df.head()"
   ]
  },
  {
   "cell_type": "markdown",
   "id": "65511a84-fa9e-4cd3-ba5b-a0faceb1fd73",
   "metadata": {},
   "source": [
    "a) For each feature, write code to compute the average value, the min and max values, as well as its variance."
   ]
  },
  {
   "cell_type": "code",
   "execution_count": 9,
   "id": "9c1ee8de-8cea-4e12-aa9c-9625a7301662",
   "metadata": {},
   "outputs": [
    {
     "name": "stdout",
     "output_type": "stream",
     "text": [
      "price - mean: 540088.1417665294, min: 75000.0, max: 7700000.0, variance: 134782378397.24681\n",
      "bedrooms - mean: 3.37084162309721, min: 0, max: 33, variance: 0.8650150097573724\n",
      "bathrooms - mean: 2.1147573219821405, min: 0.0, max: 8.0, variance: 0.5931512887355798\n",
      "sqft_living - mean: 2079.8997362698374, min: 290, max: 13540, variance: 843533.6813681519\n",
      "sqft_lot - mean: 15106.967565816869, min: 520, max: 1651359, variance: 1715658774.1754541\n",
      "floors - mean: 1.4943089807060566, min: 1.0, max: 3.5, variance: 0.29158800687709074\n",
      "waterfront - mean: 0.007541757275713691, min: 0, max: 1, variance: 0.007485225502689098\n",
      "view - mean: 0.23430342849211122, min: 0, max: 4, variance: 0.5872426169774596\n",
      "condition - mean: 3.4094295100171195, min: 1, max: 5, variance: 0.42346651239404876\n",
      "grade - mean: 7.656873178179799, min: 1, max: 13, variance: 1.3817032893475767\n",
      "sqft_above - mean: 1788.3906907879516, min: 290, max: 9410, variance: 685734.6672685045\n",
      "sqft_basement - mean: 291.5090454818859, min: 0, max: 4820, variance: 195872.66840094145\n",
      "yr_built - mean: 1971.0051357978994, min: 1900, max: 2015, variance: 862.7972621659717\n",
      "yr_renovated - mean: 84.40225790033776, min: 0, max: 2015, variance: 161346.2118623043\n",
      "lat - mean: 47.56005251931708, min: 47.1559, max: 47.7776, variance: 0.019199901796007755\n",
      "long - mean: -122.21389640494147, min: -122.51899999999999, max: -121.315, variance: 0.019832622017891488\n",
      "sqft_living15 - mean: 1986.552491556008, min: 399, max: 6210, variance: 469761.23994532274\n",
      "sqft_lot15 - mean: 12768.455651691113, min: 651, max: 871200, variance: 745518225.3404043\n"
     ]
    }
   ],
   "source": [
    "feature_list = [\n",
    "    'price', 'bedrooms', 'bathrooms', 'sqft_living', 'sqft_lot', 'floors', 'waterfront', \n",
    "    'view', 'condition', 'grade', 'sqft_above', 'sqft_basement',  'yr_built', 'yr_renovated', \n",
    "    'lat', 'long', 'sqft_living15', 'sqft_lot15']\n",
    "\n",
    "def compute_features(df):\n",
    "    \n",
    "    mean_dict = {}\n",
    "    var_dict = {}\n",
    "    \n",
    "    for feature in feature_list:\n",
    "        num_rows = len(df[feature])\n",
    "        mean = df[feature].mean()\n",
    "        maximum = df[feature].max()\n",
    "        minimum = df[feature].min()\n",
    "        var = sum((x - mean) ** 2 for x in df[feature]) / (num_rows - 1)\n",
    "        \n",
    "        mean_dict[feature] = mean\n",
    "        var_dict[feature] = var\n",
    "        print(f'{df[feature].name} - mean: {mean}, min: {minimum}, max: {maximum}, variance: {var}')\n",
    "    \n",
    "    return mean_dict, var_dict\n",
    "        \n",
    "mean, variance = compute_features(df)"
   ]
  },
  {
   "cell_type": "markdown",
   "id": "23394d34-d1d6-4be7-8d54-f3fa019c9271",
   "metadata": {},
   "source": [
    "Which features have the lowest and the highest average? Include the feature name and their average values for the features with the lowest and highest average."
   ]
  },
  {
   "cell_type": "code",
   "execution_count": 32,
   "id": "512647f5-86eb-4816-be7e-92fc0ab5d5af",
   "metadata": {},
   "outputs": [
    {
     "name": "stdout",
     "output_type": "stream",
     "text": [
      "The highest average is price: 540088.1417665294\n",
      "The lowest average is long: -122.21389640494147\n"
     ]
    }
   ],
   "source": [
    "max_value = max(mean.values())\n",
    "\n",
    "for i in mean.items():\n",
    "    if i[1] == max_value:\n",
    "        print(f'The highest average is {i[0]}: {i[1]}')\n",
    "        \n",
    "min_value = min(mean.values())\n",
    "\n",
    "for i in mean.items():\n",
    "    if i[1] == min_value:\n",
    "        print(f'The lowest average is {i[0]}: {i[1]}')"
   ]
  },
  {
   "cell_type": "markdown",
   "id": "ca041154-f986-4fdd-90d6-43edf46eaa8b",
   "metadata": {},
   "source": [
    "Which features have the lowest and the highest variance? Include the feature name and their variance values for the features with the lowest and highest variance."
   ]
  },
  {
   "cell_type": "code",
   "execution_count": 33,
   "id": "8a70f80a-e965-41da-b8fc-a4a8215edab0",
   "metadata": {},
   "outputs": [
    {
     "name": "stdout",
     "output_type": "stream",
     "text": [
      "The highest variance is price: 134782378397.24681\n",
      "The lowest variance is waterfront: 0.007485225502689098\n"
     ]
    }
   ],
   "source": [
    "max_var = max(variance.values())\n",
    "\n",
    "for i in variance.items():\n",
    "    if i[1] == max_var:\n",
    "        print(f'The highest variance is {i[0]}: {i[1]}')\n",
    "        \n",
    "min_var = min(variance.values())\n",
    "\n",
    "for i in variance.items():\n",
    "    if i[1] == min_var:\n",
    "        print(f'The lowest variance is {i[0]}: {i[1]}')"
   ]
  },
  {
   "cell_type": "markdown",
   "id": "f2697e0c-1807-4e74-9ea3-acb0037ffe21",
   "metadata": {},
   "source": [
    "b) Compute the correlation coefficient of each feature with the response. Include a table with the correlation coefficient of each feature with the response. Which features are positively correlated (i.e., have positive correlation coefficient) with the response? Which feature has the highest positive correlation with the response?"
   ]
  },
  {
   "cell_type": "code",
   "execution_count": 12,
   "id": "817badba-6809-4a32-a082-b51318416de8",
   "metadata": {},
   "outputs": [],
   "source": [
    "features = [\n",
    "    'bedrooms', 'bathrooms', 'sqft_living', 'sqft_lot', 'floors', 'waterfront', \n",
    "    'view', 'condition', 'grade', 'sqft_above', 'sqft_basement',  'yr_built', 'yr_renovated', \n",
    "    'lat', 'long', 'sqft_living15', 'sqft_lot15']\n",
    "\n",
    "data = {}\n",
    "\n",
    "def compute_corr():\n",
    "    \n",
    "    for feature in features:\n",
    "        feature_corr = np.corrcoef(df['price'], df[feature])\n",
    "        \n",
    "        data[feature] = feature_corr[0][1]\n",
    "        \n",
    "        corr_table = pd.DataFrame(data, index=['price'])\n",
    "\n",
    "    return corr_table\n",
    "        \n",
    "df_corr = compute_corr()"
   ]
  },
  {
   "cell_type": "code",
   "execution_count": 13,
   "id": "a17b79bd-a133-481a-954a-1260060ade4d",
   "metadata": {},
   "outputs": [
    {
     "data": {
      "text/html": [
       "<div>\n",
       "<style scoped>\n",
       "    .dataframe tbody tr th:only-of-type {\n",
       "        vertical-align: middle;\n",
       "    }\n",
       "\n",
       "    .dataframe tbody tr th {\n",
       "        vertical-align: top;\n",
       "    }\n",
       "\n",
       "    .dataframe thead th {\n",
       "        text-align: right;\n",
       "    }\n",
       "</style>\n",
       "<table border=\"1\" class=\"dataframe\">\n",
       "  <thead>\n",
       "    <tr style=\"text-align: right;\">\n",
       "      <th></th>\n",
       "      <th>bedrooms</th>\n",
       "      <th>bathrooms</th>\n",
       "      <th>sqft_living</th>\n",
       "      <th>sqft_lot</th>\n",
       "      <th>floors</th>\n",
       "      <th>waterfront</th>\n",
       "      <th>view</th>\n",
       "      <th>condition</th>\n",
       "      <th>grade</th>\n",
       "      <th>sqft_above</th>\n",
       "      <th>sqft_basement</th>\n",
       "      <th>yr_built</th>\n",
       "      <th>yr_renovated</th>\n",
       "      <th>lat</th>\n",
       "      <th>long</th>\n",
       "      <th>sqft_living15</th>\n",
       "      <th>sqft_lot15</th>\n",
       "    </tr>\n",
       "  </thead>\n",
       "  <tbody>\n",
       "    <tr>\n",
       "      <th>price</th>\n",
       "      <td>0.30835</td>\n",
       "      <td>0.525138</td>\n",
       "      <td>0.702035</td>\n",
       "      <td>0.089661</td>\n",
       "      <td>0.256794</td>\n",
       "      <td>0.266369</td>\n",
       "      <td>0.397293</td>\n",
       "      <td>0.036362</td>\n",
       "      <td>0.667434</td>\n",
       "      <td>0.605567</td>\n",
       "      <td>0.323816</td>\n",
       "      <td>0.054012</td>\n",
       "      <td>0.126434</td>\n",
       "      <td>0.307003</td>\n",
       "      <td>0.021626</td>\n",
       "      <td>0.585379</td>\n",
       "      <td>0.082447</td>\n",
       "    </tr>\n",
       "  </tbody>\n",
       "</table>\n",
       "</div>"
      ],
      "text/plain": [
       "       bedrooms  bathrooms  sqft_living  sqft_lot    floors  waterfront  \\\n",
       "price   0.30835   0.525138     0.702035  0.089661  0.256794    0.266369   \n",
       "\n",
       "           view  condition     grade  sqft_above  sqft_basement  yr_built  \\\n",
       "price  0.397293   0.036362  0.667434    0.605567       0.323816  0.054012   \n",
       "\n",
       "       yr_renovated       lat      long  sqft_living15  sqft_lot15  \n",
       "price      0.126434  0.307003  0.021626       0.585379    0.082447  "
      ]
     },
     "execution_count": 13,
     "metadata": {},
     "output_type": "execute_result"
    }
   ],
   "source": [
    "df_corr"
   ]
  },
  {
   "cell_type": "code",
   "execution_count": 35,
   "id": "4c896ede-7c67-4c69-89b8-6e0ead5d3081",
   "metadata": {},
   "outputs": [
    {
     "name": "stdout",
     "output_type": "stream",
     "text": [
      "The highest positive correlation with the response is sqft_living: 0.7020350546118003\n"
     ]
    }
   ],
   "source": [
    "highest_corr = max(data.values())\n",
    "\n",
    "for i in data.items():\n",
    "    if i[1] == highest_corr:\n",
    "        print(f'The highest positive correlation with the response is {i[0]}: {i[1]}')\n"
   ]
  },
  {
   "cell_type": "markdown",
   "id": "817ee82f-321e-4a2a-b3fe-147c43bb108b",
   "metadata": {
    "tags": []
   },
   "source": [
    "c) Were you able to find any features with a negative correlation coefficient with the response?"
   ]
  },
  {
   "cell_type": "markdown",
   "id": "e48592ed-a021-4732-b076-5c431cffccd4",
   "metadata": {},
   "source": [
    "`I am not able to find any features with a negative correlation coefficient with the response.`"
   ]
  }
 ],
 "metadata": {
  "kernelspec": {
   "display_name": "Python 3",
   "language": "python",
   "name": "python3"
  },
  "language_info": {
   "codemirror_mode": {
    "name": "ipython",
    "version": 3
   },
   "file_extension": ".py",
   "mimetype": "text/x-python",
   "name": "python",
   "nbconvert_exporter": "python",
   "pygments_lexer": "ipython3",
   "version": "3.6.13"
  }
 },
 "nbformat": 4,
 "nbformat_minor": 5
}
